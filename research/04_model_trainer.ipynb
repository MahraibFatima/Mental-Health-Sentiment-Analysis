{
 "cells": [
  {
   "cell_type": "code",
   "execution_count": 1,
   "metadata": {},
   "outputs": [],
   "source": [
    "import os"
   ]
  },
  {
   "cell_type": "code",
   "execution_count": 2,
   "metadata": {},
   "outputs": [
    {
     "data": {
      "text/plain": [
       "'/workspaces/Mental-Health-Sentiment-Analysis/research'"
      ]
     },
     "execution_count": 2,
     "metadata": {},
     "output_type": "execute_result"
    }
   ],
   "source": [
    "%pwd"
   ]
  },
  {
   "cell_type": "code",
   "execution_count": 3,
   "metadata": {},
   "outputs": [],
   "source": [
    "os.chdir(\"../\")"
   ]
  },
  {
   "cell_type": "code",
   "execution_count": 4,
   "metadata": {},
   "outputs": [
    {
     "data": {
      "text/plain": [
       "'/workspaces/Mental-Health-Sentiment-Analysis'"
      ]
     },
     "execution_count": 4,
     "metadata": {},
     "output_type": "execute_result"
    }
   ],
   "source": [
    "%pwd"
   ]
  },
  {
   "cell_type": "code",
   "execution_count": 5,
   "metadata": {},
   "outputs": [],
   "source": [
    "from dataclasses import dataclass\n",
    "from pathlib import Path\n",
    "\n",
    "@dataclass(frozen=True)\n",
    "class ModelTrainerConfig:\n",
    "    root_dir: Path\n",
    "    train_data_path: Path\n",
    "    test_data_path: Path\n",
    "    model_name: str\n",
    "    alpha: float\n",
    "    l1_ratio: float\n",
    "    target_column: str"
   ]
  },
  {
   "cell_type": "code",
   "execution_count": 6,
   "metadata": {},
   "outputs": [],
   "source": [
    "from src.MentalHealthAnalysis.constants import *\n",
    "from src.MentalHealthAnalysis.utils.common import read_yaml, create_directories"
   ]
  },
  {
   "cell_type": "code",
   "execution_count": 7,
   "metadata": {},
   "outputs": [],
   "source": [
    "class ConfigurationManager:\n",
    "    def __init__(\n",
    "        self,\n",
    "        config_filepath = CONFIG_FILE_PATH,\n",
    "        params_filepath = PARAMS_FILE_PATH,\n",
    "        schema_filepath = SCHEMA_FILE_PATH):\n",
    "\n",
    "        self.config = read_yaml(config_filepath)\n",
    "        self.params = read_yaml(params_filepath)\n",
    "        self.schema = read_yaml(schema_filepath)\n",
    "        create_directories([self.config.artifacts_root])\n",
    "\n",
    "    def get_model_trainer_config(self) -> ModelTrainerConfig:\n",
    "        try:\n",
    "            config = self.config.get('model_trainer', {})\n",
    "            params = self.params.get('xgboost_params', {})\n",
    "            schema = self.schema.get('TARGET_COLUMN', {})\n",
    "\n",
    "            create_directories([config.get('root_dir', '')])\n",
    "\n",
    "            model_trainer_config = ModelTrainerConfig(\n",
    "                root_dir=config.get('root_dir', ''),\n",
    "                train_data_path=config.get('train_data_path', ''),\n",
    "                test_data_path=config.get('test_data_path', ''),\n",
    "                model_name=config.get('model_name', ''),\n",
    "                alpha=params.get('alpha', 0.1),  # Default value if not present\n",
    "                l1_ratio=params.get('l1_ratio', 0.5),  # Default value if not present\n",
    "                target_column=schema.get('name', '')\n",
    "            )\n",
    "            return model_trainer_config\n",
    "        except Exception as e:\n",
    "            raise RuntimeError(f\"Error in model trainer config: {e}\")"
   ]
  },
  {
   "cell_type": "code",
   "execution_count": 8,
   "metadata": {},
   "outputs": [],
   "source": [
    "import os\n",
    "import pandas as pd\n",
    "from xgboost import XGBClassifier\n",
    "import joblib\n",
    "from sklearn.metrics import accuracy_score\n",
    "from sklearn.compose import ColumnTransformer\n",
    "from sklearn.utils import resample  # If resampling is needed\n",
    "from sklearn.feature_extraction.text import TfidfVectorizer\n",
    "from sklearn.pipeline import Pipeline\n",
    "from sklearn.preprocessing import StandardScaler"
   ]
  },
  {
   "cell_type": "code",
   "execution_count": 9,
   "metadata": {},
   "outputs": [],
   "source": [
    "class ModelTrainer:\n",
    "    def __init__(self, config: ModelTrainerConfig):\n",
    "        self.config = config\n",
    "\n",
    "    def train(self):\n",
    "        # Load train and test data\n",
    "        train_data = pd.read_csv(self.config.train_data_path)\n",
    "        test_data = pd.read_csv(self.config.test_data_path)\n",
    "\n",
    "        # Separate features and target\n",
    "        train_x = train_data.drop([self.config.target_column], axis=1)\n",
    "        test_x = test_data.drop([self.config.target_column], axis=1)\n",
    "        train_y = train_data[self.config.target_column].values.ravel()\n",
    "        test_y = test_data[self.config.target_column].values.ravel()\n",
    "\n",
    "        train_x['statement'] = train_x['statement'].fillna('').astype(str)\n",
    "        test_x['statement'] = test_x['statement'].fillna('').astype(str) # Replace NaN with an empty string\n",
    "\n",
    "        text_columns = ['statement', 'num_of_characters', 'num_of_sentences', 'tokens','tokens_stemmed']\n",
    "\n",
    "        # Apply TF-IDF to each text column separately using pipelines\n",
    "        text_transformers = [(f'tfidf_{col}', Pipeline([\n",
    "            ('tfidf', TfidfVectorizer(max_features=1000))\n",
    "        ]), col) for col in text_columns]\n",
    "\n",
    "        # Create a column transformer to apply TF-IDF to text columns and scaling to numerical columns\n",
    "        # Define preprocessors for text and numeric data\n",
    "        preprocessor = ColumnTransformer(\n",
    "            transformers=[\n",
    "                ('text', TfidfVectorizer(), 'statement'),  # Use correct column name\n",
    "                ('num', StandardScaler(), train_x.select_dtypes(include=['float64', 'int64']).columns.tolist())  # Adjust for your numeric column(s)\n",
    "            ]\n",
    "        )\n",
    "\n",
    "        # Create a pipeline that first transforms the data, then fits the model\n",
    "        model_pipeline = Pipeline(steps=[\n",
    "            ('preprocessor', preprocessor),\n",
    "            ('classifier', XGBClassifier(learning_rate=0.5, max_depth=7, n_estimators=500, random_state=101))\n",
    "        ])\n",
    "\n",
    "        # Train the model using the pipeline\n",
    "        model_pipeline.fit(train_x, train_y)\n",
    "\n",
    "        # Predict the labels on the test data\n",
    "        y_pred = model_pipeline.predict(test_x)\n",
    "\n",
    "        # Evaluate the model performance using accuracy\n",
    "        accuracy = accuracy_score(test_y, y_pred)\n",
    "        print(f\"Model Accuracy: {accuracy:.4f}\")\n",
    "\n",
    "        # Ensure the root directory exists\n",
    "        os.makedirs(self.config.root_dir, exist_ok=True)\n",
    "\n",
    "        # Save the trained model\n",
    "        model_path = os.path.join(self.config.root_dir, self.config.model_name)\n",
    "        joblib.dump(model_pipeline, model_path)\n",
    "\n",
    "        # Optionally print or log success\n",
    "        print(f\"Model saved at {model_path}\")\n",
    "\n",
    "    # Optional: Add a method for resampling\n",
    "    def _resample(self, X, y):\n",
    "        # Example of resampling\n",
    "        df = pd.concat([pd.DataFrame(X), pd.Series(y, name='target')], axis=1)\n",
    "        majority_class = df['target'].mode()[0]\n",
    "        minority_class = df['target'].value_counts().index[1]\n",
    "        \n",
    "        df_majority = df[df['target'] == majority_class]\n",
    "        df_minority = df[df['target'] == minority_class]\n",
    "        \n",
    "        df_minority_upsampled = resample(df_minority, \n",
    "                                         replace=True, \n",
    "                                         n_samples=len(df_majority), \n",
    "                                         random_state=101)\n",
    "        \n",
    "        df_upsampled = pd.concat([df_majority, df_minority_upsampled])\n",
    "        X_upsampled = df_upsampled.drop(['target'], axis=1)\n",
    "        y_upsampled = df_upsampled['target']\n",
    "        \n",
    "        return X_upsampled, y_upsampled\n"
   ]
  },
  {
   "cell_type": "code",
   "execution_count": 10,
   "metadata": {},
   "outputs": [
    {
     "name": "stdout",
     "output_type": "stream",
     "text": [
      "[2024-09-21 18:22:23,471: INFO: common: yaml file: config/config.yaml loaded successfully]\n",
      "[2024-09-21 18:22:23,473: INFO: common: yaml file: params.yaml loaded successfully]\n",
      "[2024-09-21 18:22:23,475: INFO: common: yaml file: schema.yaml loaded successfully]\n",
      "[2024-09-21 18:22:23,476: INFO: common: created directory at: artifacts]\n",
      "[2024-09-21 18:22:23,476: INFO: common: created directory at: artifacts/model_trainer]\n"
     ]
    },
    {
     "name": "stdout",
     "output_type": "stream",
     "text": [
      "Index(['index', 'statement', 'num_of_characters', 'num_of_sentences', 'tokens',\n",
      "       'tokens_stemmed'],\n",
      "      dtype='object')\n",
      "Index(['index', 'statement', 'num_of_characters', 'num_of_sentences', 'tokens',\n",
      "       'tokens_stemmed'],\n",
      "      dtype='object')\n",
      "Model Accuracy: 0.8730\n",
      "Model saved at artifacts/model_trainer/model.joblib\n"
     ]
    }
   ],
   "source": [
    "try:\n",
    "    config = ConfigurationManager()\n",
    "    model_trainer_config = config.get_model_trainer_config()  # Get the model trainer configuration\n",
    "    model_trainer = ModelTrainer(config=model_trainer_config)  # Instantiate ModelTrainer\n",
    "    model_trainer.train()  # Call the train method\n",
    "except Exception as e:\n",
    "    raise e"
   ]
  },
  {
   "cell_type": "code",
   "execution_count": null,
   "metadata": {},
   "outputs": [],
   "source": []
  }
 ],
 "metadata": {
  "kernelspec": {
   "display_name": "Python 3.8.10 64-bit",
   "language": "python",
   "name": "python3"
  },
  "language_info": {
   "codemirror_mode": {
    "name": "ipython",
    "version": 3
   },
   "file_extension": ".py",
   "mimetype": "text/x-python",
   "name": "python",
   "nbconvert_exporter": "python",
   "pygments_lexer": "ipython3",
   "version": "3.8.19"
  },
  "orig_nbformat": 4,
  "vscode": {
   "interpreter": {
    "hash": "916dbcbb3f70747c44a77c7bcd40155683ae19c65e1c03b4aa3499c5328201f1"
   }
  }
 },
 "nbformat": 4,
 "nbformat_minor": 2
}
